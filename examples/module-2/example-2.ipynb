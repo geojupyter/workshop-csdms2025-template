{
 "cells": [
  {
   "cell_type": "markdown",
   "id": "99255da7-98d7-4053-a975-8a5cc61a0c28",
   "metadata": {},
   "source": [
    "# Module 2: New Geospatial Tools\n",
    "\n",
    "Let's look at some tools that can help us work with geospatial data."
   ]
  },
  {
   "cell_type": "markdown",
   "id": "5a9ffa3a-8467-4e3c-9c57-2743234ed93d",
   "metadata": {},
   "source": [
    "## [leafmap](https://leafmap.org/)\n",
    "\n",
    "leafmap has been around for a while.\n",
    "Developed by the prolific [Qiusheng Wu](https://wetlands.io/), it's a mapping tool aimed at researchers, not software engineers.\n",
    "It does cool things like provide you a basemap by default."
   ]
  },
  {
   "cell_type": "code",
   "execution_count": 1,
   "id": "839e2627-ba43-452c-becf-42dc340f7111",
   "metadata": {},
   "outputs": [
    {
     "data": {
      "application/vnd.jupyter.widget-view+json": {
       "model_id": "0acd992025d942a0aa1571009d95b2b9",
       "version_major": 2,
       "version_minor": 0
      },
      "text/plain": [
       "Map(center=[20, 0], controls=(ZoomControl(options=['position', 'zoom_in_text', 'zoom_in_title', 'zoom_out_text…"
      ]
     },
     "execution_count": 1,
     "metadata": {},
     "output_type": "execute_result"
    }
   ],
   "source": [
    "import geopandas\n",
    "import leafmap\n",
    "\n",
    "gdf = geopandas.read_file(\"seec_and_nsidc.json\")\n",
    "\n",
    "m = leafmap.Map()\n",
    "m.add_gdf(gdf)\n",
    "m"
   ]
  },
  {
   "cell_type": "markdown",
   "id": "cabd29fd-4b05-404b-a1c6-d9dd359c2598",
   "metadata": {},
   "source": [
    "## [JupyterGIS](https://jupytergis.readthedocs.io/)\n",
    "\n",
    "JupyterGIS is brand new.\n",
    "Inspired by leafmap, QGIS, and more, it's aimed at being a browser-first collaborative GIS environment.\n",
    "\n",
    "We've prepared a jGIS project, i.e. a `.jGIS` file, with a basemap:"
   ]
  },
  {
   "cell_type": "code",
   "execution_count": 2,
   "id": "6005b485-0555-4700-a30e-73fe2e083946",
   "metadata": {},
   "outputs": [
    {
     "data": {
      "application/vnd.jupyter.ywidget-view+json": {
       "model_id": "3a4d7817adde41bc981936f189bd11cb",
       "version_major": 2,
       "version_minor": 0
      },
      "text/plain": [
       "<jupytergis_lab.notebook.gis_document.GISDocument object at 0x7142bfd0f620>"
      ]
     },
     "execution_count": 2,
     "metadata": {},
     "output_type": "execute_result"
    }
   ],
   "source": [
    "from jupytergis import GISDocument\n",
    "\n",
    "doc = GISDocument(\"example.jGIS\")\n",
    "doc"
   ]
  },
  {
   "cell_type": "markdown",
   "id": "eeac2318-9a05-4f6e-a235-f2230e46177a",
   "metadata": {},
   "source": [
    "Let's add our data:"
   ]
  },
  {
   "cell_type": "code",
   "execution_count": 3,
   "id": "f5b85691-5c13-4149-870a-57b2133ba86d",
   "metadata": {
    "scrolled": true
   },
   "outputs": [
    {
     "data": {
      "application/vnd.jupyter.ywidget-view+json": {
       "model_id": "3a4d7817adde41bc981936f189bd11cb",
       "version_major": 2,
       "version_minor": 0
      },
      "text/plain": [
       "<jupytergis_lab.notebook.gis_document.GISDocument object at 0x7142bfd0f620>"
      ]
     },
     "execution_count": 3,
     "metadata": {},
     "output_type": "execute_result"
    }
   ],
   "source": [
    "doc.add_geojson_layer(\"seec_and_nsidc.json\", name=\"SEEC and NSIDC\")\n",
    "doc"
   ]
  },
  {
   "cell_type": "markdown",
   "id": "0c2a1a42-b21f-447b-be26-9c61a3dd3bc6",
   "metadata": {},
   "source": [
    "Let's view the layers currently on the map.\n",
    "\n",
    "On the far left panel, click the globe icon.\n",
    "\n",
    "Then expand the \"Layers\" view within the new panel.\n",
    "\n",
    "Right click on \"SEEC and NSIDC\" and select \"Zoom to Layer\".\n",
    "You should see your data points on the furthest edges of the map, but the basemap has likely become unusable.\n",
    "Zoom out a little bit by scrolling."
   ]
  },
  {
   "cell_type": "markdown",
   "id": "3365876f-d5cb-4c74-924e-6c5df91ee324",
   "metadata": {},
   "source": [
    "## Let's play with other data sources.\n",
    "\n",
    "Check out the [opengeos datasets](https://github.com/opengeos/datasets/releases) resource to find some GeoJSON data that interests you."
   ]
  }
 ],
 "metadata": {
  "kernelspec": {
   "display_name": "Python 3 (ipykernel)",
   "language": "python",
   "name": "python3"
  },
  "language_info": {
   "codemirror_mode": {
    "name": "ipython",
    "version": 3
   },
   "file_extension": ".py",
   "mimetype": "text/x-python",
   "name": "python",
   "nbconvert_exporter": "python",
   "pygments_lexer": "ipython3",
   "version": "3.13.3"
  }
 },
 "nbformat": 4,
 "nbformat_minor": 5
}
