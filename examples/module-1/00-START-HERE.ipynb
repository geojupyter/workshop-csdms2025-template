{
 "cells": [
  {
   "cell_type": "markdown",
   "id": "be74f559-7cc4-4af3-a2cf-bedea50734af",
   "metadata": {},
   "source": [
    "# Preliminaries - configure Git and Github access\n",
    "\n",
    "Before we do any \"real\" work, we'll need to do a one-time setup so Git knows who you are on this hub, and so you can also regularly connect from this hub to your Github account without having to type passwords all the time."
   ]
  },
  {
   "cell_type": "markdown",
   "id": "5e7cc622-78e0-4d1d-941b-27faf828fb09",
   "metadata": {},
   "source": [
    "## Git Configuration\n",
    "\n",
    "The minimal amount of configuration for git to work without pestering you is to tell it who you are. Open a terminal below, and run these commands, typing your desired name and the email address that you'd like to identify with any commits you make (typically the one you use for Github):\n",
    "\n",
    "```bash\n",
    "git config --global user.name \"YOUR NAME HERE\"\n",
    "git config --global user.email \"YOUR EMAIL HERE\"\n",
    "```\n",
    "\n",
    "And while we’re at it, we also turn on the use of color, which is very useful\n",
    "\n",
    "```bash\n",
    "git config --global color.ui \"auto\"\n",
    "```"
   ]
  },
  {
   "cell_type": "markdown",
   "id": "77d18108-8ffc-4392-8c28-8fa3bb9dff82",
   "metadata": {},
   "source": [
    "## Activate GitHub Authentication\n",
    "\n",
    "Next, we configure git so that we manage our credentials without having to manually type our passwords for each and every operation. \n",
    "\n",
    "For general users, Github offers in its help pages instructions on how to configure the credentials helper for [Mac OSX](https://help.github.com/articles/caching-your-github-password-in-git/#platform-mac), [Windows](https://help.github.com/articles/caching-your-github-password-in-git/#platform-mac) and [Linux](https://help.github.com/articles/caching-your-github-password-in-git/#platform-linux).\n",
    "\n",
    "For convenient use on the hub, we're going to run ONE cell below each time. \n",
    "\n",
    "This part is in a notebook called `GHAUTH.ipynb` in the `shared-public/fperez` folder:\n",
    "\n",
    "```\n",
    "shared-public/fperez/GHAUTH.ipynb\n",
    "```\n",
    "\n",
    "**Please copy that notebook to your home directory (and star/favorite it to find it easily on your sidebar). You'll then be able to do this each time you need Github access with minimal fss**\n",
    "\n",
    "Note that if the repos you need to work aren't configured for access from this hub, you need to go to\n",
    "\n",
    "[https://github.com/apps/cryocloud-github-access](https://github.com/apps/cryocloud-github-access)\n",
    "\n",
    "and add them to your desired configuration.\n",
    "\n",
    "**Run the cell below to activate GitHub access:**"
   ]
  },
  {
   "cell_type": "code",
   "execution_count": null,
   "id": "e8b2d975-f426-4ad0-b162-becd766dc858",
   "metadata": {},
   "outputs": [],
   "source": [
    "import gh_scoped_creds\n",
    "%ghscopedcreds"
   ]
  }
 ],
 "metadata": {
  "kernelspec": {
   "display_name": "Python 3 (ipykernel)",
   "language": "python",
   "name": "python3"
  },
  "language_info": {
   "codemirror_mode": {
    "name": "ipython",
    "version": 3
   },
   "file_extension": ".py",
   "mimetype": "text/x-python",
   "name": "python",
   "nbconvert_exporter": "python",
   "pygments_lexer": "ipython3",
   "version": "3.10.16"
  }
 },
 "nbformat": 4,
 "nbformat_minor": 5
}
