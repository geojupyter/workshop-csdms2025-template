{
 "cells": [
  {
   "cell_type": "markdown",
   "id": "3b1e9977-24bf-4f79-b44b-38664c9f3790",
   "metadata": {},
   "source": [
    "# I am an example notebook\n",
    "\n",
    "You can render, or even execute me, in a webpage!\n",
    "\n",
    "Try clicking the \"power\" button up there! ☝️\n",
    "\n",
    "Then click \"play\"."
   ]
  },
  {
   "cell_type": "code",
   "execution_count": null,
   "id": "e5999226-d3c7-412f-8b8f-54bcee2223bd",
   "metadata": {},
   "outputs": [],
   "source": [
    "1 + 1"
   ]
  }
 ],
 "metadata": {
  "kernelspec": {
   "display_name": "Python 3 (ipykernel)",
   "language": "python",
   "name": "python3"
  },
  "language_info": {
   "codemirror_mode": {
    "name": "ipython",
    "version": 3
   },
   "file_extension": ".py",
   "mimetype": "text/x-python",
   "name": "python",
   "nbconvert_exporter": "python",
   "pygments_lexer": "ipython3",
   "version": "3.13.3"
  }
 },
 "nbformat": 4,
 "nbformat_minor": 5
}
